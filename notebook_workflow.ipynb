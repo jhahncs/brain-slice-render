{
 "cells": [
  {
   "cell_type": "markdown",
   "metadata": {},
   "source": [
    "# Using Notebooks\n",
    "\n",
    "`brainrender` can be used with Jupyter notebooks in two ways:\n",
    "\n",
    "1. you can **embed** a window with your rendered scene\n",
    "2. you can have your scene be rendered in a **pop-up** window.\n",
    "\n",
    "\n",
    "## Rendering your scene in a separate window\n",
    "\n",
    "If you want your scene to be rendered in a new window, then set this option before you create \n",
    "your `Scene`.\n",
    "\n",
    "```python\n",
    "import vedo\n",
    "vedo.settings.default_backend= 'vtk'\n",
    "```\n",
    "After this everything will work exactly the same as usual, and you will have access to all of brainrender's features. \n"
   ]
  },
  {
   "cell_type": "markdown",
   "metadata": {},
   "source": [
    "### To visualise primary visual cortex in the Allen Adult Mouse Brain Atlas:"
   ]
  },
  {
   "cell_type": "code",
   "execution_count": 1,
   "metadata": {},
   "outputs": [
    {
     "data": {
      "application/vnd.jupyter.widget-view+json": {
       "model_id": "6acf5376875d48bb87940a1010be8c23",
       "version_major": 2,
       "version_minor": 0
      },
      "text/plain": [
       "Output()"
      ]
     },
     "metadata": {},
     "output_type": "display_data"
    },
    {
     "data": {
      "text/html": [
       "<pre style=\"white-space:pre;overflow-x:auto;line-height:normal;font-family:Menlo,'DejaVu Sans Mono',consolas,'Courier New',monospace\"></pre>\n"
      ],
      "text/plain": []
     },
     "metadata": {},
     "output_type": "display_data"
    }
   ],
   "source": [
    "import vedo\n",
    "vedo.settings.default_backend= 'vtk'\n",
    "\n",
    "from brainrender import Scene\n",
    "popup_scene = Scene(atlas_name='allen_mouse_50um', title='popup')\n",
    "\n",
    "popup_scene.add_brain_region('VISp')\n",
    "\n",
    "popup_scene.render()  # press 'Esc' to close"
   ]
  },
  {
   "cell_type": "markdown",
   "metadata": {},
   "source": [
    "## Embedding the scene\n",
    "\n",
    "When embedding renderings in Jupyter Notebook not all of `brainrender`'s functionality will work! \n",
    "If you want to support all of `brainrender`'s features you should **not embed** renderings in the notebooks.\n",
    "\n",
    "Note that this is due to the backend (`k3d`) used to embed the renderings, and not because of `brainrender`.\n",
    "\n",
    "If you still need to embed your `Scene` then `brainrender` works slightly differently."
   ]
  },
  {
   "cell_type": "markdown",
   "metadata": {},
   "source": [
    "### To visualise the tectum in the larval zebrafish atlas:"
   ]
  },
  {
   "cell_type": "code",
   "execution_count": null,
   "metadata": {},
   "outputs": [],
   "source": [
    "# Set the backend\n",
    "import vedo\n",
    "vedo.settings.default_backend= 'k3d'\n",
    "\n",
    "# Create a brainrender scene\n",
    "from brainrender import Scene\n",
    "scene = Scene(atlas_name='mpin_zfish_1um', title='Embedded')  # note the title will not actually display\n",
    "scene.add_brain_region('tectum')\n",
    "\n",
    "# Make sure it gets embedded in the window\n",
    "scene.jupyter = True\n",
    "\n",
    "# scene.render now will prepare the scene for rendering, but it won't render anything yet\n",
    "scene.render()\n",
    "\n",
    "# To display the scene we use `vedo`'s `show` method to show the scene's actors\n",
    "from vedo import Plotter  # <- this will be used to render an embedded scene \n",
    "plt = Plotter()\n",
    "plt.show(*scene.renderables)  # same as vedo.show(*scene.renderables)"
   ]
  }
 ],
 "metadata": {
  "file_extension": ".py",
  "kernelspec": {
   "display_name": "brainrender_env",
   "language": "python",
   "name": "python3"
  },
  "language_info": {
   "codemirror_mode": {
    "name": "ipython",
    "version": 3
   },
   "file_extension": ".py",
   "mimetype": "text/x-python",
   "name": "python",
   "nbconvert_exporter": "python",
   "pygments_lexer": "ipython3",
   "version": "3.11.3"
  },
  "mimetype": "text/x-python",
  "name": "python",
  "npconvert_exporter": "python",
  "pygments_lexer": "ipython3",
  "version": 3
 },
 "nbformat": 4,
 "nbformat_minor": 2
}
